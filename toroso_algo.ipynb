{
 "cells": [
  {
   "cell_type": "markdown",
   "metadata": {},
   "source": [
    "# Toroso Algorithm"
   ]
  },
  {
   "cell_type": "code",
   "execution_count": null,
   "metadata": {},
   "outputs": [],
   "source": [
    "import os\n",
    "import pandas as pd\n",
    "import numpy as np\n",
    "import talib as ta\n",
    "from pathlib import Path\n",
    "from dotenv import load_dotenv\n",
    "import alpaca_trade_api as tradeapi\n",
    "import datetime as dt\n",
    "import hvplot.pandas\n",
    "%matplotlib inline"
   ]
  },
  {
   "cell_type": "code",
   "execution_count": null,
   "metadata": {},
   "outputs": [],
   "source": [
    "# Set tickers from screener\n",
    "tickers = [\"BBY\", \"UAL\", \"DISCK\", \"FANG\", \"NEE\"]"
   ]
  },
  {
   "cell_type": "markdown",
   "metadata": {},
   "source": [
    "### Securities Data"
   ]
  },
  {
   "cell_type": "code",
   "execution_count": null,
   "metadata": {},
   "outputs": [],
   "source": [
    "load_dotenv()\n",
    "\n",
    "# Set Alpaca API key and secret\n",
    "alpaca_api_key = os.getenv(\"ALPACA_API_KEY\")\n",
    "alpaca_secret_key = os.getenv(\"ALPACA_SECRET_KEY\")\n",
    "\n",
    "# Create the Alpaca API object\n",
    "alpaca = tradeapi.REST(\n",
    "    alpaca_api_key,\n",
    "    alpaca_secret_key,\n",
    "    api_version=\"v2\")\n",
    "\n",
    "# Format current date as ISO format\n",
    "today = pd.Timestamp(\"2020-12-31\", tz=\"America/New_York\").isoformat()\n",
    "\n",
    "# Set timeframe to one day ('1D') for the Alpaca API\n",
    "timeframe = \"1D\"\n",
    "start = pd.Timestamp(\"2020-01-14\", tz=\"America/New_York\").isoformat()\n",
    "end = pd.Timestamp(\"2021-01-14\", tz=\"America/New_York\").isoformat()\n",
    "\n",
    "df_portfolio = alpaca.get_barset(\n",
    "    tickers,\n",
    "    timeframe,\n",
    "    start = start,\n",
    "    end = end\n",
    ").df\n",
    "\n",
    "df_portfolio.index = df_portfolio.index.date\n",
    "df_portfolio = df_portfolio.dropna()"
   ]
  },
  {
   "cell_type": "code",
   "execution_count": null,
   "metadata": {},
   "outputs": [],
   "source": [
    "# Create and empty DataFrame for each ticker\n",
    "df_aapl = pd.DataFrame()\n",
    "df_msf = pd.DataFrame()\n",
    "df_amzn = pd.DataFrame()\n",
    "df_fb = pd.DataFrame()\n",
    "df_tsla = pd.DataFrame()\n",
    "\n",
    "# Fetch the prices for each ticker\n",
    "df_aapl = df_portfolio[\"BBY\"]\n",
    "df_msft = df_portfolio[\"UAL\"]\n",
    "df_amzn = df_portfolio['DISCK']\n",
    "df_fb = df_portfolio[\"FANG\"]\n",
    "df_tsla = df_portfolio[\"NEE\"]"
   ]
  },
  {
   "cell_type": "markdown",
   "metadata": {},
   "source": [
    "### Tech Analysis"
   ]
  },
  {
   "cell_type": "code",
   "execution_count": null,
   "metadata": {},
   "outputs": [],
   "source": [
    "def applyTA (input_df):\n",
    "    \"\"\"\n",
    "        Add columns of technical analysis in the dataframe\n",
    "        Parameter:\n",
    "            input_df - dataframe with date index and columns of OHLCV data\n",
    "        Returns:\n",
    "            df_ta - dataframe with date index and technical analysis signals\n",
    "    \"\"\"\n",
    "    \n",
    "    df = input_df.copy()\n",
    "    \n",
    "    # Construct EMA Singals\n",
    "    df['8D_EMA'] = ta.EMA(df['close'], timeperiod = 8)\n",
    "    df['21D_EMA'] = ta.EMA(df['close'], timeperiod = 21)\n",
    "    df['50D_EMA'] = ta.EMA(df['close'], timeperiod = 50)\n",
    "    df['8_21_x_long'] = np.where(df['8D_EMA'] > df['21D_EMA'], 1.0, 0.0)\n",
    "    df['8_21_x_short'] = np.where(df['8D_EMA'] < df['21D_EMA'], -1.0, 0.0)\n",
    "    df['8_21_x_signal'] = df['8_21_x_long'] + df['8_21_x_short'] \n",
    "    df['21_50_x_long'] = np.where(df['21D_EMA'] > df['50D_EMA'], 1.0, 0.0)\n",
    "    df['21_50_x_short'] = np.where(df['21D_EMA'] < df['50D_EMA'], -1.0, 0.0)\n",
    "    df['21_50_x_signal'] = df['21_50_x_long'] + df['21_50_x_short']\n",
    "    df['above_8D'] = np.where(df['close'] > df['8D_EMA'], 1.0, 0.0)\n",
    "    df['above_21D'] = np.where(df['close'] > df['21D_EMA'], 1.0, 0.0)\n",
    "    df['above_50D'] = np.where(df['close'] > df['50D_EMA'], 1.0, 0.0)\n",
    "    \n",
    "    # Bollinger Bands\n",
    "    df['bb_upper_band'], df['bb_middle_band'], df['bb_lower_band'] = ta.BBANDS(df['close'], timeperiod =20)\n",
    "    df['bb_long'] = np.where(df['close'] < df['bb_lower_band'], 1.0, 0.0)\n",
    "    df['bb_short'] = np.where(df['close'] > df['bb_upper_band'], -1.0, 0.0)\n",
    "    df['bb_signal'] = df['bb_long'] + df['bb_short']\n",
    "    \n",
    "    # Calculate RSI\n",
    "    df['RSI'] = ta.RSI(df['close'],14)\n",
    "    df['rsi_short'] = np.where(df['RSI'] > 70, -1.0, 0.0)\n",
    "    df['rsi_long'] = np.where(df['RSI'] < 30, 1.0, 0.0)\n",
    "    df['rsi_signal'] = df['rsi_long'] + df['rsi_short']\n",
    "    \n",
    "    # Calculate Stochastic Oscillators trading signal\n",
    "    df['slowk'], df['slowd'] = ta.STOCH(df['high'], df['low'], df['close'], fastk_period=5, slowk_period=3, slowk_matype=0, slowd_period=3, slowd_matype=0)   \n",
    "    df['slowk_x_long'] = np.where(df['slowk'] > df['slowd'], 1.0, 0.0)\n",
    "    df['slowk_x_short'] = np.where(df['slowk'] < df['slowd'], -1.0, 0.0)\n",
    "    df['slowk_x_signal'] = df['slowk_x_long'] + df['slowk_x_short']\n",
    "    \n",
    "     # Calculate ADX\n",
    "    df['adx'] = ta.ADX(df['high'], df['low'], df['close'], timeperiod=14)\n",
    "    df['adx_strong'] = np.where(df['adx'] > 50, 1.0, 0.0)\n",
    "    df['adx_weak'] = np.where(df['adx'] < 20, 1.0, 0.0)\n",
    "\n",
    "    # Calculate OBV signal\n",
    "    df['obv'] = ta.OBV(df['close'], df['volume'])\n",
    "    df['obv_change']=df['obv'].pct_change()\n",
    "    df['obv_increase'] = np.where(df['obv_change'] > 0, 1.0, 0.0)\n",
    "\n",
    "    # Calculate Chaikin A/D Oscillator signal\n",
    "    df['ADOSC'] = ta.ADOSC(df['high'], df['low'], df['close'], df['volume'], fastperiod=3, slowperiod=10)    \n",
    "    df['adosc_positive'] = np.where(df['ADOSC'] > 0, 1.0, 0.0)\n",
    "\n",
    "    # Drop non-TA signals columns and NAs\n",
    "    df_ta = df[{'8_21_x_signal', '21_50_x_signal', 'above_8D', 'above_21D', 'above_50D', 'bb_signal', 'rsi_signal', 'slowk_x_signal', 'adx_strong', 'adx_weak', 'obv_increase', 'adosc_positive'}]\n",
    "    df_ta = df_ta.dropna()\n",
    "    \n",
    "    return df_ta"
   ]
  },
  {
   "cell_type": "code",
   "execution_count": null,
   "metadata": {},
   "outputs": [],
   "source": [
    "# Create df of tickers \n",
    "applyTA('''ticker''')"
   ]
  },
  {
   "cell_type": "markdown",
   "metadata": {},
   "source": [
    "### Candlesticks"
   ]
  },
  {
   "cell_type": "code",
   "execution_count": null,
   "metadata": {},
   "outputs": [],
   "source": [
    "def get_workday(date):\n",
    "    \"\"\" Convert Date to its latest workday\n",
    "        Parameter:\n",
    "            date - Any format usagle with pd.to_datetime\n",
    "        Return:\n",
    "            timestamp object of the nearest workday earlier than the given date\n",
    "    \"\"\"\n",
    "    date = pd.to_datetime(date)\n",
    "    offset = max(1, (date.weekday() + 6) % 7 - 3)\n",
    "    timedelta = dt.timedelta(offset)\n",
    "    return pd.Timestamp((date - timedelta).date(),tz=\"America/New_York\").isoformat()\n",
    "\n",
    "def get_alpaca_data():\n",
    "    \"\"\" Get 2 years OHLCV data from Alpaca API for the global set of tickers\n",
    "        Parameter:\n",
    "            None\n",
    "        Return:\n",
    "            Pandas Dataframe of 2 years of OHLC data for the global tickers\n",
    "    \"\"\"\n",
    "    # Set Keys for Alpaca Trade API\n",
    "    alpaca_api_key = os.getenv(\"ALPACA_API_KEY\")\n",
    "    alpaca_secret_key = os.getenv(\"ALPACA_SECRET_KEY\")\n",
    "    \n",
    "    # Initiate REST API\n",
    "    api = tradeapi.REST(\n",
    "        alpaca_api_key,\n",
    "        alpaca_secret_key,\n",
    "        api_version = \"v2\"\n",
    "    )\n",
    "    \n",
    "    # Set start and end date\n",
    "    end_date = get_workday(START)\n",
    "    two_yrs = dt.timedelta(days=(365*YEARS))\n",
    "    start_date = get_workday((pd.to_datetime(\"today\") - two_yrs).date())\n",
    "    # Set timeframe to '1D' for Alpaca API\n",
    "    timeframe = \"1D\"\n",
    "    # Get OHLCV Data\n",
    "    portfolio = api.get_barset(\n",
    "        TICKERS,\n",
    "        timeframe,\n",
    "        start = start_date,\n",
    "        end = end_date\n",
    "    ).df\n",
    "    \n",
    "    return portfolio"
   ]
  },
  {
   "cell_type": "code",
   "execution_count": null,
   "metadata": {},
   "outputs": [],
   "source": [
    "\n",
    "def applyCDL (input_df):\n",
    "    \"\"\"\n",
    "        Add columns of candlestick patterns found in the dataframe\n",
    "        Parameter:\n",
    "            input_df - dataframe with date index and columns of OHLCV data\n",
    "        Returns:\n",
    "            df - the same dataframe received with additional columns of the candlestick patterns found\n",
    "    \"\"\"\n",
    "    \n",
    "    df = input_df.copy()\n",
    "    # Bullish\n",
    "    df[\"CDLHAMMER\"] =  ta.CDLHAMMER(df[\"open\"], df[\"high\"], df[\"low\"], df[\"close\"])/100\n",
    "    df[\"CDLINVERTEDHAMMER \"] =  ta.CDLINVERTEDHAMMER(df[\"open\"], df[\"high\"], df[\"low\"], df[\"close\"])/100\n",
    "    df[\"CDLPIERCING\"] =  ta.CDLPIERCING(df[\"open\"], df[\"high\"], df[\"low\"], df[\"close\"])/100\n",
    "    df[\"CDLMORNINGSTAR\"] =  ta.CDLMORNINGSTAR(df[\"open\"], df[\"high\"], df[\"low\"], df[\"close\"], penetration = 0)/100\n",
    "    df[\"CDL3WHITESOLDIERS\"] =  ta.CDL3WHITESOLDIERS(df[\"open\"], df[\"high\"], df[\"low\"], df[\"close\"])/100\n",
    "    # Bearish\n",
    "    df[\"CDLHANGINGMAN\"] =  ta.CDLHANGINGMAN(df[\"open\"], df[\"high\"], df[\"low\"], df[\"close\"])/100\n",
    "    df[\"CDLSHOOTINGSTAR\"] =  ta.CDLSHOOTINGSTAR(df[\"open\"], df[\"high\"], df[\"low\"], df[\"close\"])/100\n",
    "    df[\"CDLEVENINGSTAR\"] =  ta.CDLEVENINGSTAR(df[\"open\"], df[\"high\"], df[\"low\"], df[\"close\"], penetration = 0)/100\n",
    "    df[\"CDL3BLACKCROWS\"] =  ta.CDL3BLACKCROWS(df[\"open\"], df[\"high\"], df[\"low\"], df[\"close\"])/100\n",
    "    df[\"CDLDARKCLOUDCOVER\"] =  ta.CDLDARKCLOUDCOVER(df[\"open\"], df[\"high\"], df[\"low\"], df[\"close\"], penetration = 0)/100\n",
    "    # Both\n",
    "    df[\"CDLENGULFING\"] =  ta.CDLENGULFING(df[\"open\"], df[\"high\"], df[\"low\"], df[\"close\"])/100\n",
    "\n",
    "    return df"
   ]
  },
  {
   "cell_type": "code",
   "execution_count": null,
   "metadata": {},
   "outputs": [],
   "source": [
    "# Apply Candlesticks to tickers\n",
    "applyCDL('''tickers''')"
   ]
  },
  {
   "cell_type": "code",
   "execution_count": null,
   "metadata": {},
   "outputs": [],
   "source": [
    "# Concat Tech Analysis and Candlesticks DataFrames\n"
   ]
  },
  {
   "cell_type": "code",
   "execution_count": null,
   "metadata": {},
   "outputs": [],
   "source": [
    "#"
   ]
  },
  {
   "cell_type": "code",
   "execution_count": null,
   "metadata": {},
   "outputs": [],
   "source": []
  },
  {
   "cell_type": "code",
   "execution_count": null,
   "metadata": {},
   "outputs": [],
   "source": []
  },
  {
   "cell_type": "code",
   "execution_count": null,
   "metadata": {},
   "outputs": [],
   "source": []
  },
  {
   "cell_type": "code",
   "execution_count": null,
   "metadata": {},
   "outputs": [],
   "source": []
  },
  {
   "cell_type": "code",
   "execution_count": null,
   "metadata": {},
   "outputs": [],
   "source": []
  },
  {
   "cell_type": "code",
   "execution_count": null,
   "metadata": {},
   "outputs": [],
   "source": []
  },
  {
   "cell_type": "code",
   "execution_count": null,
   "metadata": {},
   "outputs": [],
   "source": []
  },
  {
   "cell_type": "code",
   "execution_count": null,
   "metadata": {},
   "outputs": [],
   "source": []
  },
  {
   "cell_type": "code",
   "execution_count": null,
   "metadata": {},
   "outputs": [],
   "source": []
  },
  {
   "cell_type": "code",
   "execution_count": null,
   "metadata": {},
   "outputs": [],
   "source": []
  },
  {
   "cell_type": "code",
   "execution_count": null,
   "metadata": {},
   "outputs": [],
   "source": []
  },
  {
   "cell_type": "code",
   "execution_count": null,
   "metadata": {},
   "outputs": [],
   "source": []
  },
  {
   "cell_type": "code",
   "execution_count": null,
   "metadata": {},
   "outputs": [],
   "source": []
  },
  {
   "cell_type": "code",
   "execution_count": null,
   "metadata": {},
   "outputs": [],
   "source": []
  },
  {
   "cell_type": "code",
   "execution_count": null,
   "metadata": {},
   "outputs": [],
   "source": []
  },
  {
   "cell_type": "code",
   "execution_count": null,
   "metadata": {},
   "outputs": [],
   "source": []
  },
  {
   "cell_type": "code",
   "execution_count": null,
   "metadata": {},
   "outputs": [],
   "source": []
  },
  {
   "cell_type": "code",
   "execution_count": null,
   "metadata": {},
   "outputs": [],
   "source": []
  },
  {
   "cell_type": "code",
   "execution_count": null,
   "metadata": {},
   "outputs": [],
   "source": []
  },
  {
   "cell_type": "code",
   "execution_count": null,
   "metadata": {},
   "outputs": [],
   "source": []
  },
  {
   "cell_type": "code",
   "execution_count": null,
   "metadata": {},
   "outputs": [],
   "source": []
  },
  {
   "cell_type": "code",
   "execution_count": null,
   "metadata": {},
   "outputs": [],
   "source": []
  },
  {
   "cell_type": "code",
   "execution_count": null,
   "metadata": {},
   "outputs": [],
   "source": []
  },
  {
   "cell_type": "code",
   "execution_count": null,
   "metadata": {},
   "outputs": [],
   "source": []
  },
  {
   "cell_type": "code",
   "execution_count": null,
   "metadata": {},
   "outputs": [],
   "source": []
  },
  {
   "cell_type": "code",
   "execution_count": null,
   "metadata": {},
   "outputs": [],
   "source": []
  },
  {
   "cell_type": "code",
   "execution_count": null,
   "metadata": {},
   "outputs": [],
   "source": []
  }
 ],
 "metadata": {
  "kernelspec": {
   "display_name": "Python 3",
   "language": "python",
   "name": "python3"
  },
  "language_info": {
   "codemirror_mode": {
    "name": "ipython",
    "version": 3
   },
   "file_extension": ".py",
   "mimetype": "text/x-python",
   "name": "python",
   "nbconvert_exporter": "python",
   "pygments_lexer": "ipython3",
   "version": "3.7.7"
  }
 },
 "nbformat": 4,
 "nbformat_minor": 4
}
