{
 "cells": [
  {
   "cell_type": "code",
   "execution_count": 4,
   "metadata": {},
   "outputs": [],
   "source": [
    "# Initial imports \n",
    "\n",
    "#Reddit API import\n",
    "from psaw import PushshiftAPI\n",
    "#import config\n",
    "#import psycopg2\n",
    "import datetime \n",
    "#import psycopg2.extras"
   ]
  },
  {
   "cell_type": "code",
   "execution_count": 5,
   "metadata": {},
   "outputs": [],
   "source": [
    "api = PushshiftAPI()"
   ]
  },
  {
   "cell_type": "code",
   "execution_count": 16,
   "metadata": {},
   "outputs": [],
   "source": [
    "start_time= int (datetime.datetime(2021 , 3 , 1).timestamp())\n",
    "\n",
    "submissions = list(api.search_submissions(after=start_time,\n",
    "                            subreddit='wallstreetbets',\n",
    "                            filter=['url','author', 'title', 'sub']))\n",
    "\n",
    "\n",
    "\n",
    "for submission in submissions:\n",
    "    #print(submission.created_utc)\n",
    "    #print(submission.title)\n",
    "    #print(submission.url)\n",
    "    \n",
    "    words = submission.title.split()\n",
    "    cash_tags = list(set(filter(lambda word: word.lower().startswith('$'), words)))\n",
    "    \n",
    "if len(cash_tags) > 0:\n",
    "    print(cash_tags)\n",
    "   # print(submission.created_utc)\n",
    "    print(submission.title)\n",
    "    #print(submission.url)\n",
    "        \n",
    "\n",
    "    "
   ]
  },
  {
   "cell_type": "code",
   "execution_count": null,
   "metadata": {},
   "outputs": [],
   "source": []
  }
 ],
 "metadata": {
  "kernelspec": {
   "display_name": "Python 3",
   "language": "python",
   "name": "python3"
  },
  "language_info": {
   "codemirror_mode": {
    "name": "ipython",
    "version": 3
   },
   "file_extension": ".py",
   "mimetype": "text/x-python",
   "name": "python",
   "nbconvert_exporter": "python",
   "pygments_lexer": "ipython3",
   "version": "3.7.9"
  }
 },
 "nbformat": 4,
 "nbformat_minor": 4
}
