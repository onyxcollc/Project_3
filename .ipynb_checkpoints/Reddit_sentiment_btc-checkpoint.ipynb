{
 "cells": [
  {
   "cell_type": "code",
   "execution_count": null,
   "id": "assured-butler",
   "metadata": {},
   "outputs": [],
   "source": [
    "import os\n",
    "import pandas as pd\n",
    "import requests\n",
    "from requests import get\n",
    "from datetime import datetime\n",
    "from nltk.sentiment.vader import SentimentIntensityAnalyzer"
   ]
  },
  {
   "cell_type": "code",
   "execution_count": null,
   "id": "growing-lesson",
   "metadata": {},
   "outputs": [],
   "source": [
    "sid = SentimentIntensityAnalyzer()\n",
    "query=\"bitcoin\"\n",
    "url = f\"https://api.pushshift.io/reddit/search/comment/?q={query}\"\n",
    "request = requests.get(url)\n",
    "json_response = request.json()"
   ]
  },
  {
   "cell_type": "code",
   "execution_count": null,
   "id": "warming-passport",
   "metadata": {},
   "outputs": [],
   "source": [
    "def get_pushshift_data(data_type, **kwargs):\n",
    " \n",
    "    base_url = f\"https://api.pushshift.io/reddit/search/{data_type}/\"\n",
    "    payload = kwargs\n",
    "    request = requests.get(base_url, params=payload)\n",
    "    return request.json()"
   ]
  },
  {
   "cell_type": "code",
   "execution_count": null,
   "id": "latter-giant",
   "metadata": {},
   "outputs": [],
   "source": [
    "data_type=\"comment\"    \n",
    "query=\"python\"         \n",
    "duration=\"1460d\"        \n",
    "size=500               \n",
    "sort_type=\"score\"       \n",
    "sort=\"desc\"             \n",
    "aggs=\"subreddit\""
   ]
  },
  {
   "cell_type": "code",
   "execution_count": null,
   "id": "olympic-replica",
   "metadata": {},
   "outputs": [],
   "source": [
    "data_all = []\n",
    "\n",
    "for req in range(0, 47):\n",
    "    data = get_pushshift_data(data_type=\"submission\",\n",
    "                          q=\"bitcoin\",\n",
    "                          after=duration,\n",
    "                          limit=499,\n",
    "                          metadata=True)\n",
    "    \n",
    "    for item in data['data']:\n",
    "        data_all.append(item)\n",
    "        \n",
    "    duration = data['data'][-1]['created_utc']+2629743\n",
    "    if req % 4 == 0:\n",
    "        print(req)"
   ]
  },
  {
   "cell_type": "code",
   "execution_count": null,
   "id": "labeled-geneva",
   "metadata": {},
   "outputs": [],
   "source": [
    "data_all[0]"
   ]
  },
  {
   "cell_type": "code",
   "execution_count": null,
   "id": "published-window",
   "metadata": {},
   "outputs": [],
   "source": [
    "requests.get"
   ]
  },
  {
   "cell_type": "code",
   "execution_count": null,
   "id": "convinced-loading",
   "metadata": {},
   "outputs": [],
   "source": [
    "len(data['data'])\n",
    "data['data'][-1]"
   ]
  },
  {
   "cell_type": "code",
   "execution_count": null,
   "id": "affecting-heritage",
   "metadata": {},
   "outputs": [],
   "source": [
    "data['metadata']"
   ]
  },
  {
   "cell_type": "code",
   "execution_count": null,
   "id": "loaded-check",
   "metadata": {},
   "outputs": [],
   "source": [
    "df = pd.DataFrame(data_all)\n",
    "df.head()"
   ]
  },
  {
   "cell_type": "code",
   "execution_count": null,
   "id": "strange-infection",
   "metadata": {},
   "outputs": [],
   "source": [
    "df['created_utc'].head()"
   ]
  },
  {
   "cell_type": "code",
   "execution_count": null,
   "id": "political-energy",
   "metadata": {},
   "outputs": [],
   "source": [
    "def epoch_time(x):\n",
    "    datetime_time = datetime.fromtimestamp(x)\n",
    "    timestampStr = datetime_time.strftime(\"%b-%Y\")\n",
    "    return timestampStr\n"
   ]
  },
  {
   "cell_type": "code",
   "execution_count": null,
   "id": "attractive-premiere",
   "metadata": {},
   "outputs": [],
   "source": [
    "df['created_utc'].unique()"
   ]
  },
  {
   "cell_type": "code",
   "execution_count": null,
   "id": "heated-nashville",
   "metadata": {},
   "outputs": [],
   "source": [
    "df['created_utc'] = df['created_utc'].apply(lambda x: epoch_time(int(float(x))))"
   ]
  },
  {
   "cell_type": "code",
   "execution_count": null,
   "id": "worse-testing",
   "metadata": {},
   "outputs": [],
   "source": [
    "df_cutc = df['created_utc']\n",
    "df_cutc.tail()"
   ]
  },
  {
   "cell_type": "code",
   "execution_count": null,
   "id": "smoking-humor",
   "metadata": {},
   "outputs": [],
   "source": [
    "sentiments = []\n",
    "\n",
    "for post in df['selftext']:\n",
    "    try:\n",
    "        text = post\n",
    "        results = sid.polarity_scores(text)\n",
    "        compound = results['compound']\n",
    "        pos = results['pos']\n",
    "        neu = results['neu']\n",
    "        neg = results['neg']\n",
    "\n",
    "        sentiments.append({\n",
    "            'text': text,\n",
    "            'Compound': compound,\n",
    "            'Positive': pos,\n",
    "            'Negative': neg,\n",
    "            'Neutral': neu,\n",
    "        })\n",
    "    except AttributeError:\n",
    "        pass\n",
    "    \n",
    "scores_df = pd.DataFrame(sentiments)\n",
    "scores_df.head()"
   ]
  }
 ],
 "metadata": {
  "kernelspec": {
   "display_name": "Python 3",
   "language": "python",
   "name": "python3"
  },
  "language_info": {
   "codemirror_mode": {
    "name": "ipython",
    "version": 3
   },
   "file_extension": ".py",
   "mimetype": "text/x-python",
   "name": "python",
   "nbconvert_exporter": "python",
   "pygments_lexer": "ipython3",
   "version": "3.8.3"
  }
 },
 "nbformat": 4,
 "nbformat_minor": 5
}
