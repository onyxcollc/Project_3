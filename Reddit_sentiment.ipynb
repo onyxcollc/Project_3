{
 "cells": [
  {
   "cell_type": "code",
   "execution_count": 1,
   "metadata": {},
   "outputs": [],
   "source": [
    "#Initial imports \n",
    "\n",
    "import os\n",
    "import pandas as pd\n",
    "import requests\n",
    "from requests import get\n",
    "from datetime import datetime\n",
    "from nltk.sentiment.vader import SentimentIntensityAnalyzer"
   ]
  },
  {
   "cell_type": "code",
   "execution_count": 2,
   "metadata": {},
   "outputs": [],
   "source": [
    "## json R=responses ##\n",
    "\n",
    "sid = SentimentIntensityAnalyzer()\n",
    "query=\"Robinhood\"\n",
    "url = f\"https://api.pushshift.io/reddit/search/comment/?q={query}\"\n",
    "request = requests.get(url)\n",
    "json_response = request.json()"
   ]
  },
  {
   "cell_type": "code",
   "execution_count": 3,
   "metadata": {},
   "outputs": [],
   "source": [
    "\n",
    "##  SubReddits are pulled from pushfit url f\"https://api.pushshift.io/reddit/search/comment/?q={query}\" ##\n",
    "\n",
    " ## setting pushfit url \n",
    "    \n",
    "def get_pushshift_data(data_type, **kwargs):\n",
    "\n",
    "    base_url = f\"https://api.pushshift.io/reddit/search/{data_type}/\"\n",
    "    payload = kwargs\n",
    "    request = requests.get(base_url, params=payload)\n",
    "    return request.json()"
   ]
  },
  {
   "cell_type": "code",
   "execution_count": 4,
   "metadata": {},
   "outputs": [],
   "source": [
    "##  pushfit parameters \n",
    "\n",
    "data_type=\"comment\"    \n",
    "query=\"Wall Street Bets\"         \n",
    "duration=\"1460d\"        \n",
    "size=500               \n",
    "sort_type=\"score\"       \n",
    "sort=\"desc\"             \n",
    "aggs=\"subreddit\""
   ]
  },
  {
   "cell_type": "code",
   "execution_count": 5,
   "metadata": {},
   "outputs": [
    {
     "name": "stdout",
     "output_type": "stream",
     "text": [
      "0\n",
      "4\n",
      "8\n",
      "12\n",
      "16\n",
      "20\n"
     ]
    },
    {
     "ename": "IndexError",
     "evalue": "list index out of range",
     "output_type": "error",
     "traceback": [
      "\u001b[1;31m---------------------------------------------------------------------------\u001b[0m",
      "\u001b[1;31mIndexError\u001b[0m                                Traceback (most recent call last)",
      "\u001b[1;32m<ipython-input-5-1a5c6f13a271>\u001b[0m in \u001b[0;36m<module>\u001b[1;34m\u001b[0m\n\u001b[0;32m     13\u001b[0m         \u001b[0mdata_all\u001b[0m\u001b[1;33m.\u001b[0m\u001b[0mappend\u001b[0m\u001b[1;33m(\u001b[0m\u001b[0mitem\u001b[0m\u001b[1;33m)\u001b[0m\u001b[1;33m\u001b[0m\u001b[1;33m\u001b[0m\u001b[0m\n\u001b[0;32m     14\u001b[0m \u001b[1;33m\u001b[0m\u001b[0m\n\u001b[1;32m---> 15\u001b[1;33m     \u001b[0mduration\u001b[0m \u001b[1;33m=\u001b[0m \u001b[0mdata\u001b[0m\u001b[1;33m[\u001b[0m\u001b[1;34m'data'\u001b[0m\u001b[1;33m]\u001b[0m\u001b[1;33m[\u001b[0m\u001b[1;33m-\u001b[0m\u001b[1;36m1\u001b[0m\u001b[1;33m]\u001b[0m\u001b[1;33m[\u001b[0m\u001b[1;34m'created_utc'\u001b[0m\u001b[1;33m]\u001b[0m\u001b[1;33m+\u001b[0m\u001b[1;36m2629743\u001b[0m\u001b[1;33m\u001b[0m\u001b[1;33m\u001b[0m\u001b[0m\n\u001b[0m\u001b[0;32m     16\u001b[0m     \u001b[1;32mif\u001b[0m \u001b[0mreq\u001b[0m \u001b[1;33m%\u001b[0m \u001b[1;36m4\u001b[0m \u001b[1;33m==\u001b[0m \u001b[1;36m0\u001b[0m\u001b[1;33m:\u001b[0m\u001b[1;33m\u001b[0m\u001b[1;33m\u001b[0m\u001b[0m\n\u001b[0;32m     17\u001b[0m         \u001b[0mprint\u001b[0m\u001b[1;33m(\u001b[0m\u001b[0mreq\u001b[0m\u001b[1;33m)\u001b[0m\u001b[1;33m\u001b[0m\u001b[1;33m\u001b[0m\u001b[0m\n",
      "\u001b[1;31mIndexError\u001b[0m: list index out of range"
     ]
    }
   ],
   "source": [
    "# loop funtion to pull subreddit metadata\n",
    "\n",
    "data_all = []\n",
    "\n",
    "for req in range(0, 47):\n",
    "    data = get_pushshift_data(data_type=\"submission\",\n",
    "                          q=\"Wall Street Bets\",\n",
    "                          after=duration,\n",
    "                          limit=499,\n",
    "                          metadata=True)\n",
    "    \n",
    "    for item in data['data']:\n",
    "        data_all.append(item)\n",
    "        \n",
    "    duration = data['data'][-1]['created_utc']+2629743\n",
    "    if req % 4 == 0:\n",
    "        print(req)"
   ]
  },
  {
   "cell_type": "code",
   "execution_count": null,
   "metadata": {},
   "outputs": [],
   "source": [
    "data_all[0]"
   ]
  },
  {
   "cell_type": "code",
   "execution_count": null,
   "metadata": {},
   "outputs": [],
   "source": [
    "requests.get"
   ]
  },
  {
   "cell_type": "code",
   "execution_count": 6,
   "metadata": {},
   "outputs": [
    {
     "ename": "IndexError",
     "evalue": "list index out of range",
     "output_type": "error",
     "traceback": [
      "\u001b[1;31m---------------------------------------------------------------------------\u001b[0m",
      "\u001b[1;31mIndexError\u001b[0m                                Traceback (most recent call last)",
      "\u001b[1;32m<ipython-input-6-0dea0be1b7b1>\u001b[0m in \u001b[0;36m<module>\u001b[1;34m\u001b[0m\n\u001b[0;32m      1\u001b[0m \u001b[0mlen\u001b[0m\u001b[1;33m(\u001b[0m\u001b[0mdata\u001b[0m\u001b[1;33m[\u001b[0m\u001b[1;34m'data'\u001b[0m\u001b[1;33m]\u001b[0m\u001b[1;33m)\u001b[0m\u001b[1;33m\u001b[0m\u001b[1;33m\u001b[0m\u001b[0m\n\u001b[1;32m----> 2\u001b[1;33m \u001b[0mdata\u001b[0m\u001b[1;33m[\u001b[0m\u001b[1;34m'data'\u001b[0m\u001b[1;33m]\u001b[0m\u001b[1;33m[\u001b[0m\u001b[1;33m-\u001b[0m\u001b[1;36m1\u001b[0m\u001b[1;33m]\u001b[0m\u001b[1;33m\u001b[0m\u001b[1;33m\u001b[0m\u001b[0m\n\u001b[0m",
      "\u001b[1;31mIndexError\u001b[0m: list index out of range"
     ]
    }
   ],
   "source": [
    "len(data['data'])\n",
    "data['data'][-1]"
   ]
  },
  {
   "cell_type": "code",
   "execution_count": 7,
   "metadata": {},
   "outputs": [
    {
     "data": {
      "text/plain": [
       "{'after': 1617541950,\n",
       " 'agg_size': 100,\n",
       " 'api_version': '3.0',\n",
       " 'before': None,\n",
       " 'es_query': {'query': {'bool': {'filter': {'bool': {'must': [{'range': {'created_utc': {'gt': 1617541950}}},\n",
       "       {'simple_query_string': {'default_operator': 'and',\n",
       "         'fields': ['title^5', 'selftext^2'],\n",
       "         'query': 'Wall Street Bets'}}],\n",
       "      'should': []}},\n",
       "    'must_not': []}},\n",
       "  'size': 100,\n",
       "  'sort': {'created_utc': 'asc'}},\n",
       " 'execution_time_milliseconds': 15.16,\n",
       " 'index': 'rs_deltae',\n",
       " 'limit': '499',\n",
       " 'metadata': 'True',\n",
       " 'q': 'Wall Street Bets',\n",
       " 'ranges': [{'range': {'created_utc': {'gt': 1617541950}}}],\n",
       " 'results_returned': 0,\n",
       " 'shards': {'failed': 0, 'skipped': 0, 'successful': 3, 'total': 4},\n",
       " 'size': 100,\n",
       " 'sort': 'asc',\n",
       " 'sort_type': 'created_utc',\n",
       " 'timed_out': False,\n",
       " 'total_results': 0}"
      ]
     },
     "execution_count": 7,
     "metadata": {},
     "output_type": "execute_result"
    }
   ],
   "source": [
    "data['metadata']"
   ]
  },
  {
   "cell_type": "code",
   "execution_count": 8,
   "metadata": {},
   "outputs": [
    {
     "data": {
      "text/html": [
       "<div>\n",
       "<style scoped>\n",
       "    .dataframe tbody tr th:only-of-type {\n",
       "        vertical-align: middle;\n",
       "    }\n",
       "\n",
       "    .dataframe tbody tr th {\n",
       "        vertical-align: top;\n",
       "    }\n",
       "\n",
       "    .dataframe thead th {\n",
       "        text-align: right;\n",
       "    }\n",
       "</style>\n",
       "<table border=\"1\" class=\"dataframe\">\n",
       "  <thead>\n",
       "    <tr style=\"text-align: right;\">\n",
       "      <th></th>\n",
       "      <th>author</th>\n",
       "      <th>author_created_utc</th>\n",
       "      <th>author_flair_css_class</th>\n",
       "      <th>author_flair_text</th>\n",
       "      <th>author_fullname</th>\n",
       "      <th>brand_safe</th>\n",
       "      <th>contest_mode</th>\n",
       "      <th>created_utc</th>\n",
       "      <th>domain</th>\n",
       "      <th>full_link</th>\n",
       "      <th>...</th>\n",
       "      <th>domain_override</th>\n",
       "      <th>events</th>\n",
       "      <th>eventsOnRender</th>\n",
       "      <th>href_url</th>\n",
       "      <th>is_blank</th>\n",
       "      <th>mobile_ad_url</th>\n",
       "      <th>outbound_link</th>\n",
       "      <th>promoted</th>\n",
       "      <th>show_media</th>\n",
       "      <th>third_party_trackers</th>\n",
       "    </tr>\n",
       "  </thead>\n",
       "  <tbody>\n",
       "    <tr>\n",
       "      <th>0</th>\n",
       "      <td>chafien</td>\n",
       "      <td>1.416930e+09</td>\n",
       "      <td>None</td>\n",
       "      <td>None</td>\n",
       "      <td>t2_jljl6</td>\n",
       "      <td>False</td>\n",
       "      <td>False</td>\n",
       "      <td>1488982363</td>\n",
       "      <td>self.wallstreetbets</td>\n",
       "      <td>https://www.reddit.com/r/wallstreetbets/commen...</td>\n",
       "      <td>...</td>\n",
       "      <td>NaN</td>\n",
       "      <td>NaN</td>\n",
       "      <td>NaN</td>\n",
       "      <td>NaN</td>\n",
       "      <td>NaN</td>\n",
       "      <td>NaN</td>\n",
       "      <td>NaN</td>\n",
       "      <td>NaN</td>\n",
       "      <td>NaN</td>\n",
       "      <td>NaN</td>\n",
       "    </tr>\n",
       "    <tr>\n",
       "      <th>1</th>\n",
       "      <td>Generalparks</td>\n",
       "      <td>1.384396e+09</td>\n",
       "      <td>OC-CC</td>\n",
       "      <td></td>\n",
       "      <td>t2_dwnmj</td>\n",
       "      <td>False</td>\n",
       "      <td>False</td>\n",
       "      <td>1488989677</td>\n",
       "      <td>self.OCLions</td>\n",
       "      <td>https://www.reddit.com/r/OCLions/comments/5y8s...</td>\n",
       "      <td>...</td>\n",
       "      <td>NaN</td>\n",
       "      <td>NaN</td>\n",
       "      <td>NaN</td>\n",
       "      <td>NaN</td>\n",
       "      <td>NaN</td>\n",
       "      <td>NaN</td>\n",
       "      <td>NaN</td>\n",
       "      <td>NaN</td>\n",
       "      <td>NaN</td>\n",
       "      <td>NaN</td>\n",
       "    </tr>\n",
       "    <tr>\n",
       "      <th>2</th>\n",
       "      <td>Mo0se69</td>\n",
       "      <td>1.452988e+09</td>\n",
       "      <td>None</td>\n",
       "      <td>None</td>\n",
       "      <td>t2_tuz6t</td>\n",
       "      <td>True</td>\n",
       "      <td>False</td>\n",
       "      <td>1488996369</td>\n",
       "      <td>self.stocks</td>\n",
       "      <td>https://www.reddit.com/r/stocks/comments/5y9ho...</td>\n",
       "      <td>...</td>\n",
       "      <td>NaN</td>\n",
       "      <td>NaN</td>\n",
       "      <td>NaN</td>\n",
       "      <td>NaN</td>\n",
       "      <td>NaN</td>\n",
       "      <td>NaN</td>\n",
       "      <td>NaN</td>\n",
       "      <td>NaN</td>\n",
       "      <td>NaN</td>\n",
       "      <td>NaN</td>\n",
       "    </tr>\n",
       "    <tr>\n",
       "      <th>3</th>\n",
       "      <td>RissaWasTaken</td>\n",
       "      <td>1.362593e+09</td>\n",
       "      <td>None</td>\n",
       "      <td>None</td>\n",
       "      <td>t2_aubzb</td>\n",
       "      <td>True</td>\n",
       "      <td>False</td>\n",
       "      <td>1489072372</td>\n",
       "      <td>self.JUSTNOMIL</td>\n",
       "      <td>https://www.reddit.com/r/JUSTNOMIL/comments/5y...</td>\n",
       "      <td>...</td>\n",
       "      <td>NaN</td>\n",
       "      <td>NaN</td>\n",
       "      <td>NaN</td>\n",
       "      <td>NaN</td>\n",
       "      <td>NaN</td>\n",
       "      <td>NaN</td>\n",
       "      <td>NaN</td>\n",
       "      <td>NaN</td>\n",
       "      <td>NaN</td>\n",
       "      <td>NaN</td>\n",
       "    </tr>\n",
       "    <tr>\n",
       "      <th>4</th>\n",
       "      <td>i_like_quesadillas</td>\n",
       "      <td>1.466648e+09</td>\n",
       "      <td>None</td>\n",
       "      <td>None</td>\n",
       "      <td>t2_yy3oq</td>\n",
       "      <td>False</td>\n",
       "      <td>False</td>\n",
       "      <td>1489259906</td>\n",
       "      <td>self.wallstreetbets</td>\n",
       "      <td>https://www.reddit.com/r/wallstreetbets/commen...</td>\n",
       "      <td>...</td>\n",
       "      <td>NaN</td>\n",
       "      <td>NaN</td>\n",
       "      <td>NaN</td>\n",
       "      <td>NaN</td>\n",
       "      <td>NaN</td>\n",
       "      <td>NaN</td>\n",
       "      <td>NaN</td>\n",
       "      <td>NaN</td>\n",
       "      <td>NaN</td>\n",
       "      <td>NaN</td>\n",
       "    </tr>\n",
       "  </tbody>\n",
       "</table>\n",
       "<p>5 rows × 109 columns</p>\n",
       "</div>"
      ],
      "text/plain": [
       "               author  author_created_utc author_flair_css_class  \\\n",
       "0             chafien        1.416930e+09                   None   \n",
       "1        Generalparks        1.384396e+09                  OC-CC   \n",
       "2             Mo0se69        1.452988e+09                   None   \n",
       "3       RissaWasTaken        1.362593e+09                   None   \n",
       "4  i_like_quesadillas        1.466648e+09                   None   \n",
       "\n",
       "  author_flair_text author_fullname brand_safe  contest_mode  created_utc  \\\n",
       "0              None        t2_jljl6      False         False   1488982363   \n",
       "1                          t2_dwnmj      False         False   1488989677   \n",
       "2              None        t2_tuz6t       True         False   1488996369   \n",
       "3              None        t2_aubzb       True         False   1489072372   \n",
       "4              None        t2_yy3oq      False         False   1489259906   \n",
       "\n",
       "                domain                                          full_link  \\\n",
       "0  self.wallstreetbets  https://www.reddit.com/r/wallstreetbets/commen...   \n",
       "1         self.OCLions  https://www.reddit.com/r/OCLions/comments/5y8s...   \n",
       "2          self.stocks  https://www.reddit.com/r/stocks/comments/5y9ho...   \n",
       "3       self.JUSTNOMIL  https://www.reddit.com/r/JUSTNOMIL/comments/5y...   \n",
       "4  self.wallstreetbets  https://www.reddit.com/r/wallstreetbets/commen...   \n",
       "\n",
       "   ...  domain_override events  eventsOnRender href_url is_blank  \\\n",
       "0  ...              NaN    NaN             NaN      NaN      NaN   \n",
       "1  ...              NaN    NaN             NaN      NaN      NaN   \n",
       "2  ...              NaN    NaN             NaN      NaN      NaN   \n",
       "3  ...              NaN    NaN             NaN      NaN      NaN   \n",
       "4  ...              NaN    NaN             NaN      NaN      NaN   \n",
       "\n",
       "   mobile_ad_url outbound_link  promoted  show_media third_party_trackers  \n",
       "0            NaN           NaN       NaN         NaN                  NaN  \n",
       "1            NaN           NaN       NaN         NaN                  NaN  \n",
       "2            NaN           NaN       NaN         NaN                  NaN  \n",
       "3            NaN           NaN       NaN         NaN                  NaN  \n",
       "4            NaN           NaN       NaN         NaN                  NaN  \n",
       "\n",
       "[5 rows x 109 columns]"
      ]
     },
     "execution_count": 8,
     "metadata": {},
     "output_type": "execute_result"
    }
   ],
   "source": [
    "df = pd.DataFrame(data_all)\n",
    "df.head()"
   ]
  },
  {
   "cell_type": "code",
   "execution_count": 9,
   "metadata": {},
   "outputs": [
    {
     "data": {
      "text/plain": [
       "0    1488982363\n",
       "1    1488989677\n",
       "2    1488996369\n",
       "3    1489072372\n",
       "4    1489259906\n",
       "Name: created_utc, dtype: int64"
      ]
     },
     "execution_count": 9,
     "metadata": {},
     "output_type": "execute_result"
    }
   ],
   "source": [
    "df['created_utc'].head()"
   ]
  },
  {
   "cell_type": "code",
   "execution_count": 10,
   "metadata": {},
   "outputs": [],
   "source": [
    "def epoch_time(x):\n",
    "    datetime_time = datetime.fromtimestamp(x)\n",
    "    timestampStr = datetime_time.strftime(\"%b-%Y\")\n",
    "    return timestampStr\n"
   ]
  },
  {
   "cell_type": "code",
   "execution_count": 11,
   "metadata": {},
   "outputs": [
    {
     "data": {
      "text/plain": [
       "array([1488982363, 1488989677, 1488996369, ..., 1614900844, 1614902446,\n",
       "       1614912207], dtype=int64)"
      ]
     },
     "execution_count": 11,
     "metadata": {},
     "output_type": "execute_result"
    }
   ],
   "source": [
    "df['created_utc'].unique()"
   ]
  },
  {
   "cell_type": "code",
   "execution_count": 12,
   "metadata": {},
   "outputs": [],
   "source": [
    "df['created_utc'] = df['created_utc'].apply(lambda x: epoch_time(int(float(x))))"
   ]
  },
  {
   "cell_type": "code",
   "execution_count": 13,
   "metadata": {},
   "outputs": [
    {
     "data": {
      "text/plain": [
       "2044    Mar-2021\n",
       "2045    Mar-2021\n",
       "2046    Mar-2021\n",
       "2047    Mar-2021\n",
       "2048    Mar-2021\n",
       "Name: created_utc, dtype: object"
      ]
     },
     "execution_count": 13,
     "metadata": {},
     "output_type": "execute_result"
    }
   ],
   "source": [
    "df_cutc = df['created_utc']\n",
    "df_cutc.tail()"
   ]
  },
  {
   "cell_type": "code",
   "execution_count": 14,
   "metadata": {},
   "outputs": [
    {
     "data": {
      "text/html": [
       "<div>\n",
       "<style scoped>\n",
       "    .dataframe tbody tr th:only-of-type {\n",
       "        vertical-align: middle;\n",
       "    }\n",
       "\n",
       "    .dataframe tbody tr th {\n",
       "        vertical-align: top;\n",
       "    }\n",
       "\n",
       "    .dataframe thead th {\n",
       "        text-align: right;\n",
       "    }\n",
       "</style>\n",
       "<table border=\"1\" class=\"dataframe\">\n",
       "  <thead>\n",
       "    <tr style=\"text-align: right;\">\n",
       "      <th></th>\n",
       "      <th>text</th>\n",
       "      <th>Compound</th>\n",
       "      <th>Positive</th>\n",
       "      <th>Negative</th>\n",
       "      <th>Neutral</th>\n",
       "    </tr>\n",
       "  </thead>\n",
       "  <tbody>\n",
       "    <tr>\n",
       "      <th>0</th>\n",
       "      <td>[removed]</td>\n",
       "      <td>0.0000</td>\n",
       "      <td>0.000</td>\n",
       "      <td>0.000</td>\n",
       "      <td>1.000</td>\n",
       "    </tr>\n",
       "    <tr>\n",
       "      <th>1</th>\n",
       "      <td>Please post any and all gameday questions rega...</td>\n",
       "      <td>0.9971</td>\n",
       "      <td>0.081</td>\n",
       "      <td>0.025</td>\n",
       "      <td>0.894</td>\n",
       "    </tr>\n",
       "    <tr>\n",
       "      <th>2</th>\n",
       "      <td>So long story short, I bought $JNUG last week ...</td>\n",
       "      <td>0.1431</td>\n",
       "      <td>0.063</td>\n",
       "      <td>0.056</td>\n",
       "      <td>0.881</td>\n",
       "    </tr>\n",
       "    <tr>\n",
       "      <th>3</th>\n",
       "      <td>Nancy was a SAHM for most of DH's childhood.  ...</td>\n",
       "      <td>-0.9877</td>\n",
       "      <td>0.069</td>\n",
       "      <td>0.107</td>\n",
       "      <td>0.824</td>\n",
       "    </tr>\n",
       "    <tr>\n",
       "      <th>4</th>\n",
       "      <td>Weeks ago I saw numerous bitching posts about ...</td>\n",
       "      <td>0.9969</td>\n",
       "      <td>0.105</td>\n",
       "      <td>0.044</td>\n",
       "      <td>0.850</td>\n",
       "    </tr>\n",
       "  </tbody>\n",
       "</table>\n",
       "</div>"
      ],
      "text/plain": [
       "                                                text  Compound  Positive  \\\n",
       "0                                          [removed]    0.0000     0.000   \n",
       "1  Please post any and all gameday questions rega...    0.9971     0.081   \n",
       "2  So long story short, I bought $JNUG last week ...    0.1431     0.063   \n",
       "3  Nancy was a SAHM for most of DH's childhood.  ...   -0.9877     0.069   \n",
       "4  Weeks ago I saw numerous bitching posts about ...    0.9969     0.105   \n",
       "\n",
       "   Negative  Neutral  \n",
       "0     0.000    1.000  \n",
       "1     0.025    0.894  \n",
       "2     0.056    0.881  \n",
       "3     0.107    0.824  \n",
       "4     0.044    0.850  "
      ]
     },
     "execution_count": 14,
     "metadata": {},
     "output_type": "execute_result"
    }
   ],
   "source": [
    "## Sub Reddit sentiment scores \n",
    "\n",
    "\n",
    "sentiments = []\n",
    "\n",
    "for post in df['selftext']:\n",
    "    try:\n",
    "        text = post\n",
    "        results = sid.polarity_scores(text)\n",
    "        compound = results['compound']\n",
    "        pos = results['pos']\n",
    "        neu = results['neu']\n",
    "        neg = results['neg']\n",
    "\n",
    "        sentiments.append({\n",
    "            'text': text,\n",
    "            'Compound': compound,\n",
    "            'Positive': pos,\n",
    "            'Negative': neg,\n",
    "            'Neutral': neu,\n",
    "        })\n",
    "    except AttributeError:\n",
    "        pass\n",
    "    \n",
    "scores_df = pd.DataFrame(sentiments)\n",
    "scores_df.head()"
   ]
  },
  {
   "cell_type": "code",
   "execution_count": null,
   "metadata": {},
   "outputs": [],
   "source": []
  }
 ],
 "metadata": {
  "kernelspec": {
   "display_name": "Python 3",
   "language": "python",
   "name": "python3"
  },
  "language_info": {
   "codemirror_mode": {
    "name": "ipython",
    "version": 3
   },
   "file_extension": ".py",
   "mimetype": "text/x-python",
   "name": "python",
   "nbconvert_exporter": "python",
   "pygments_lexer": "ipython3",
   "version": "3.7.9"
  }
 },
 "nbformat": 4,
 "nbformat_minor": 5
}
