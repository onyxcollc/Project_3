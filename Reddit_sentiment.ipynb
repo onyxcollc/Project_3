{
 "cells": [
  {
   "cell_type": "code",
   "execution_count": 1,
   "metadata": {},
   "outputs": [],
   "source": [
    "import os\n",
    "import pandas as pd\n",
    "import requests\n",
    "from requests import get\n",
    "from datetime import datetime\n",
    "from nltk.sentiment.vader import SentimentIntensityAnalyzer"
   ]
  },
  {
   "cell_type": "code",
   "execution_count": 2,
   "metadata": {},
   "outputs": [],
   "source": [
    "sid = SentimentIntensityAnalyzer()\n",
    "query=\"Robinhood\"\n",
    "url = f\"https://api.pushshift.io/reddit/search/comment/?q={query}\"\n",
    "request = requests.get(url)\n",
    "json_response = request.json()"
   ]
  },
  {
   "cell_type": "code",
   "execution_count": 3,
   "metadata": {},
   "outputs": [],
   "source": [
    "def get_pushshift_data(data_type, **kwargs):\n",
    " \n",
    "    base_url = f\"https://api.pushshift.io/reddit/search/{data_type}/\"\n",
    "    payload = kwargs\n",
    "    request = requests.get(base_url, params=payload)\n",
    "    return request.json()"
   ]
  },
  {
   "cell_type": "code",
   "execution_count": 4,
   "metadata": {},
   "outputs": [],
   "source": [
    "data_type=\"comment\"    \n",
    "query=\"python\"         \n",
    "duration=\"1460d\"        \n",
    "size=500               \n",
    "sort_type=\"score\"       \n",
    "sort=\"desc\"             \n",
    "aggs=\"subreddit\""
   ]
  },
  {
   "cell_type": "code",
   "execution_count": 5,
   "metadata": {},
   "outputs": [
    {
     "name": "stdout",
     "output_type": "stream",
     "text": [
      "0\n",
      "4\n",
      "8\n",
      "12\n",
      "16\n",
      "20\n",
      "24\n",
      "28\n",
      "32\n",
      "36\n",
      "40\n"
     ]
    },
    {
     "ename": "IndexError",
     "evalue": "list index out of range",
     "output_type": "error",
     "traceback": [
      "\u001b[1;31m---------------------------------------------------------------------------\u001b[0m",
      "\u001b[1;31mIndexError\u001b[0m                                Traceback (most recent call last)",
      "\u001b[1;32m<ipython-input-5-fc7bd6d47cdb>\u001b[0m in \u001b[0;36m<module>\u001b[1;34m\u001b[0m\n\u001b[0;32m     11\u001b[0m         \u001b[0mdata_all\u001b[0m\u001b[1;33m.\u001b[0m\u001b[0mappend\u001b[0m\u001b[1;33m(\u001b[0m\u001b[0mitem\u001b[0m\u001b[1;33m)\u001b[0m\u001b[1;33m\u001b[0m\u001b[1;33m\u001b[0m\u001b[0m\n\u001b[0;32m     12\u001b[0m \u001b[1;33m\u001b[0m\u001b[0m\n\u001b[1;32m---> 13\u001b[1;33m     \u001b[0mduration\u001b[0m \u001b[1;33m=\u001b[0m \u001b[0mdata\u001b[0m\u001b[1;33m[\u001b[0m\u001b[1;34m'data'\u001b[0m\u001b[1;33m]\u001b[0m\u001b[1;33m[\u001b[0m\u001b[1;33m-\u001b[0m\u001b[1;36m1\u001b[0m\u001b[1;33m]\u001b[0m\u001b[1;33m[\u001b[0m\u001b[1;34m'created_utc'\u001b[0m\u001b[1;33m]\u001b[0m\u001b[1;33m+\u001b[0m\u001b[1;36m2629743\u001b[0m\u001b[1;33m\u001b[0m\u001b[1;33m\u001b[0m\u001b[0m\n\u001b[0m\u001b[0;32m     14\u001b[0m     \u001b[1;32mif\u001b[0m \u001b[0mreq\u001b[0m \u001b[1;33m%\u001b[0m \u001b[1;36m4\u001b[0m \u001b[1;33m==\u001b[0m \u001b[1;36m0\u001b[0m\u001b[1;33m:\u001b[0m\u001b[1;33m\u001b[0m\u001b[1;33m\u001b[0m\u001b[0m\n\u001b[0;32m     15\u001b[0m         \u001b[0mprint\u001b[0m\u001b[1;33m(\u001b[0m\u001b[0mreq\u001b[0m\u001b[1;33m)\u001b[0m\u001b[1;33m\u001b[0m\u001b[1;33m\u001b[0m\u001b[0m\n",
      "\u001b[1;31mIndexError\u001b[0m: list index out of range"
     ]
    }
   ],
   "source": [
    "data_all = []\n",
    "\n",
    "for req in range(0, 47):\n",
    "    data = get_pushshift_data(data_type=\"submission\",\n",
    "                          q=\"Robinhood\",\n",
    "                          after=duration,\n",
    "                          limit=499,\n",
    "                          metadata=True)\n",
    "    \n",
    "    for item in data['data']:\n",
    "        data_all.append(item)\n",
    "        \n",
    "    duration = data['data'][-1]['created_utc']+2629743\n",
    "    if req % 4 == 0:\n",
    "        print(req)"
   ]
  },
  {
   "cell_type": "code",
   "execution_count": 6,
   "metadata": {},
   "outputs": [
    {
     "data": {
      "text/plain": [
       "{'author': '[deleted]',\n",
       " 'author_flair_css_class': None,\n",
       " 'author_flair_text': None,\n",
       " 'brand_safe': False,\n",
       " 'contest_mode': False,\n",
       " 'created_utc': 1488418927,\n",
       " 'domain': 'i.reddituploads.com',\n",
       " 'full_link': 'https://www.reddit.com/r/InvestmentClub/comments/5x0c49/what_to_do_feeling_like_a_newbie_here_pls_help_me/',\n",
       " 'gilded': 0,\n",
       " 'id': '5x0c49',\n",
       " 'is_self': False,\n",
       " 'locked': False,\n",
       " 'media_embed': {},\n",
       " 'num_comments': 1,\n",
       " 'over_18': False,\n",
       " 'permalink': '/r/InvestmentClub/comments/5x0c49/what_to_do_feeling_like_a_newbie_here_pls_help_me/',\n",
       " 'retrieved_on': 1492366691,\n",
       " 'score': 1,\n",
       " 'secure_media_embed': {},\n",
       " 'selftext': '[deleted]',\n",
       " 'spoiler': False,\n",
       " 'stickied': False,\n",
       " 'subreddit': 'InvestmentClub',\n",
       " 'subreddit_id': 't5_2tfzh',\n",
       " 'suggested_sort': None,\n",
       " 'thumbnail': 'default',\n",
       " 'title': 'What to do? Feeling like a newbie here. Pls help me make better investment decisions :) Also, what to buy with my Robinhood account? Thanks',\n",
       " 'url': 'https://i.reddituploads.com/aa35124974324e4e87bdaba74d3887cf?fit=max&amp;h=1536&amp;w=1536&amp;s=1d218e958467e2f47b8a9efec9c9852a'}"
      ]
     },
     "execution_count": 6,
     "metadata": {},
     "output_type": "execute_result"
    }
   ],
   "source": [
    "data_all[0]"
   ]
  },
  {
   "cell_type": "code",
   "execution_count": 7,
   "metadata": {},
   "outputs": [
    {
     "data": {
      "text/plain": [
       "<function requests.api.get(url, params=None, **kwargs)>"
      ]
     },
     "execution_count": 7,
     "metadata": {},
     "output_type": "execute_result"
    }
   ],
   "source": [
    "requests.get"
   ]
  },
  {
   "cell_type": "code",
   "execution_count": 8,
   "metadata": {},
   "outputs": [
    {
     "ename": "IndexError",
     "evalue": "list index out of range",
     "output_type": "error",
     "traceback": [
      "\u001b[1;31m---------------------------------------------------------------------------\u001b[0m",
      "\u001b[1;31mIndexError\u001b[0m                                Traceback (most recent call last)",
      "\u001b[1;32m<ipython-input-8-0dea0be1b7b1>\u001b[0m in \u001b[0;36m<module>\u001b[1;34m\u001b[0m\n\u001b[0;32m      1\u001b[0m \u001b[0mlen\u001b[0m\u001b[1;33m(\u001b[0m\u001b[0mdata\u001b[0m\u001b[1;33m[\u001b[0m\u001b[1;34m'data'\u001b[0m\u001b[1;33m]\u001b[0m\u001b[1;33m)\u001b[0m\u001b[1;33m\u001b[0m\u001b[1;33m\u001b[0m\u001b[0m\n\u001b[1;32m----> 2\u001b[1;33m \u001b[0mdata\u001b[0m\u001b[1;33m[\u001b[0m\u001b[1;34m'data'\u001b[0m\u001b[1;33m]\u001b[0m\u001b[1;33m[\u001b[0m\u001b[1;33m-\u001b[0m\u001b[1;36m1\u001b[0m\u001b[1;33m]\u001b[0m\u001b[1;33m\u001b[0m\u001b[1;33m\u001b[0m\u001b[0m\n\u001b[0m",
      "\u001b[1;31mIndexError\u001b[0m: list index out of range"
     ]
    }
   ],
   "source": [
    "len(data['data'])\n",
    "data['data'][-1]"
   ]
  },
  {
   "cell_type": "code",
   "execution_count": 9,
   "metadata": {},
   "outputs": [
    {
     "data": {
      "text/plain": [
       "{'after': 1614633555,\n",
       " 'agg_size': 100,\n",
       " 'api_version': '3.0',\n",
       " 'before': None,\n",
       " 'es_query': {'query': {'bool': {'filter': {'bool': {'must': [{'range': {'created_utc': {'gt': 1614633555}}},\n",
       "       {'simple_query_string': {'default_operator': 'and',\n",
       "         'fields': ['title^5', 'selftext^2'],\n",
       "         'query': 'Robinhood'}}],\n",
       "      'should': []}},\n",
       "    'must_not': []}},\n",
       "  'size': 100,\n",
       "  'sort': {'created_utc': 'asc'}},\n",
       " 'execution_time_milliseconds': 104.16,\n",
       " 'index': 'rs_deltae',\n",
       " 'limit': '499',\n",
       " 'metadata': 'True',\n",
       " 'q': 'Robinhood',\n",
       " 'ranges': [{'range': {'created_utc': {'gt': 1614633555}}}],\n",
       " 'results_returned': 0,\n",
       " 'shards': {'failed': 0, 'skipped': 0, 'successful': 4, 'total': 4},\n",
       " 'size': 100,\n",
       " 'sort': 'asc',\n",
       " 'sort_type': 'created_utc',\n",
       " 'timed_out': False,\n",
       " 'total_results': 0}"
      ]
     },
     "execution_count": 9,
     "metadata": {},
     "output_type": "execute_result"
    }
   ],
   "source": [
    "data['metadata']"
   ]
  },
  {
   "cell_type": "code",
   "execution_count": 10,
   "metadata": {},
   "outputs": [
    {
     "data": {
      "text/html": [
       "<div>\n",
       "<style scoped>\n",
       "    .dataframe tbody tr th:only-of-type {\n",
       "        vertical-align: middle;\n",
       "    }\n",
       "\n",
       "    .dataframe tbody tr th {\n",
       "        vertical-align: top;\n",
       "    }\n",
       "\n",
       "    .dataframe thead th {\n",
       "        text-align: right;\n",
       "    }\n",
       "</style>\n",
       "<table border=\"1\" class=\"dataframe\">\n",
       "  <thead>\n",
       "    <tr style=\"text-align: right;\">\n",
       "      <th></th>\n",
       "      <th>author</th>\n",
       "      <th>author_flair_css_class</th>\n",
       "      <th>author_flair_text</th>\n",
       "      <th>brand_safe</th>\n",
       "      <th>contest_mode</th>\n",
       "      <th>created_utc</th>\n",
       "      <th>domain</th>\n",
       "      <th>full_link</th>\n",
       "      <th>gilded</th>\n",
       "      <th>id</th>\n",
       "      <th>...</th>\n",
       "      <th>media_metadata</th>\n",
       "      <th>show_media</th>\n",
       "      <th>updated_utc</th>\n",
       "      <th>steward_reports</th>\n",
       "      <th>removed_by</th>\n",
       "      <th>removed_by_category</th>\n",
       "      <th>call_to_action</th>\n",
       "      <th>discussion_type</th>\n",
       "      <th>gallery_data</th>\n",
       "      <th>is_gallery</th>\n",
       "    </tr>\n",
       "  </thead>\n",
       "  <tbody>\n",
       "    <tr>\n",
       "      <th>0</th>\n",
       "      <td>[deleted]</td>\n",
       "      <td>None</td>\n",
       "      <td>None</td>\n",
       "      <td>False</td>\n",
       "      <td>False</td>\n",
       "      <td>1488418927</td>\n",
       "      <td>i.reddituploads.com</td>\n",
       "      <td>https://www.reddit.com/r/InvestmentClub/commen...</td>\n",
       "      <td>0.0</td>\n",
       "      <td>5x0c49</td>\n",
       "      <td>...</td>\n",
       "      <td>NaN</td>\n",
       "      <td>NaN</td>\n",
       "      <td>NaN</td>\n",
       "      <td>NaN</td>\n",
       "      <td>NaN</td>\n",
       "      <td>NaN</td>\n",
       "      <td>NaN</td>\n",
       "      <td>NaN</td>\n",
       "      <td>NaN</td>\n",
       "      <td>NaN</td>\n",
       "    </tr>\n",
       "    <tr>\n",
       "      <th>1</th>\n",
       "      <td>mattstl314</td>\n",
       "      <td>None</td>\n",
       "      <td>None</td>\n",
       "      <td>True</td>\n",
       "      <td>False</td>\n",
       "      <td>1488419775</td>\n",
       "      <td>self.RobinHood</td>\n",
       "      <td>https://www.reddit.com/r/RobinHood/comments/5x...</td>\n",
       "      <td>0.0</td>\n",
       "      <td>5x0es6</td>\n",
       "      <td>...</td>\n",
       "      <td>NaN</td>\n",
       "      <td>NaN</td>\n",
       "      <td>NaN</td>\n",
       "      <td>NaN</td>\n",
       "      <td>NaN</td>\n",
       "      <td>NaN</td>\n",
       "      <td>NaN</td>\n",
       "      <td>NaN</td>\n",
       "      <td>NaN</td>\n",
       "      <td>NaN</td>\n",
       "    </tr>\n",
       "    <tr>\n",
       "      <th>2</th>\n",
       "      <td>Datfadeaway</td>\n",
       "      <td>None</td>\n",
       "      <td>None</td>\n",
       "      <td>True</td>\n",
       "      <td>False</td>\n",
       "      <td>1488419815</td>\n",
       "      <td>self.RobinHood</td>\n",
       "      <td>https://www.reddit.com/r/RobinHood/comments/5x...</td>\n",
       "      <td>0.0</td>\n",
       "      <td>5x0ewz</td>\n",
       "      <td>...</td>\n",
       "      <td>NaN</td>\n",
       "      <td>NaN</td>\n",
       "      <td>NaN</td>\n",
       "      <td>NaN</td>\n",
       "      <td>NaN</td>\n",
       "      <td>NaN</td>\n",
       "      <td>NaN</td>\n",
       "      <td>NaN</td>\n",
       "      <td>NaN</td>\n",
       "      <td>NaN</td>\n",
       "    </tr>\n",
       "    <tr>\n",
       "      <th>3</th>\n",
       "      <td>SubZeroFish</td>\n",
       "      <td>None</td>\n",
       "      <td>None</td>\n",
       "      <td>True</td>\n",
       "      <td>False</td>\n",
       "      <td>1488453679</td>\n",
       "      <td>self.investing</td>\n",
       "      <td>https://www.reddit.com/r/investing/comments/5x...</td>\n",
       "      <td>0.0</td>\n",
       "      <td>5x2ofo</td>\n",
       "      <td>...</td>\n",
       "      <td>NaN</td>\n",
       "      <td>NaN</td>\n",
       "      <td>NaN</td>\n",
       "      <td>NaN</td>\n",
       "      <td>NaN</td>\n",
       "      <td>NaN</td>\n",
       "      <td>NaN</td>\n",
       "      <td>NaN</td>\n",
       "      <td>NaN</td>\n",
       "      <td>NaN</td>\n",
       "    </tr>\n",
       "    <tr>\n",
       "      <th>4</th>\n",
       "      <td>Joeboard</td>\n",
       "      <td>None</td>\n",
       "      <td>None</td>\n",
       "      <td>False</td>\n",
       "      <td>False</td>\n",
       "      <td>1488459294</td>\n",
       "      <td>self.wallstreetbets</td>\n",
       "      <td>https://www.reddit.com/r/wallstreetbets/commen...</td>\n",
       "      <td>0.0</td>\n",
       "      <td>5x314l</td>\n",
       "      <td>...</td>\n",
       "      <td>NaN</td>\n",
       "      <td>NaN</td>\n",
       "      <td>NaN</td>\n",
       "      <td>NaN</td>\n",
       "      <td>NaN</td>\n",
       "      <td>NaN</td>\n",
       "      <td>NaN</td>\n",
       "      <td>NaN</td>\n",
       "      <td>NaN</td>\n",
       "      <td>NaN</td>\n",
       "    </tr>\n",
       "  </tbody>\n",
       "</table>\n",
       "<p>5 rows × 117 columns</p>\n",
       "</div>"
      ],
      "text/plain": [
       "        author author_flair_css_class author_flair_text brand_safe  \\\n",
       "0    [deleted]                   None              None      False   \n",
       "1   mattstl314                   None              None       True   \n",
       "2  Datfadeaway                   None              None       True   \n",
       "3  SubZeroFish                   None              None       True   \n",
       "4     Joeboard                   None              None      False   \n",
       "\n",
       "   contest_mode  created_utc               domain  \\\n",
       "0         False   1488418927  i.reddituploads.com   \n",
       "1         False   1488419775       self.RobinHood   \n",
       "2         False   1488419815       self.RobinHood   \n",
       "3         False   1488453679       self.investing   \n",
       "4         False   1488459294  self.wallstreetbets   \n",
       "\n",
       "                                           full_link  gilded      id  ...  \\\n",
       "0  https://www.reddit.com/r/InvestmentClub/commen...     0.0  5x0c49  ...   \n",
       "1  https://www.reddit.com/r/RobinHood/comments/5x...     0.0  5x0es6  ...   \n",
       "2  https://www.reddit.com/r/RobinHood/comments/5x...     0.0  5x0ewz  ...   \n",
       "3  https://www.reddit.com/r/investing/comments/5x...     0.0  5x2ofo  ...   \n",
       "4  https://www.reddit.com/r/wallstreetbets/commen...     0.0  5x314l  ...   \n",
       "\n",
       "   media_metadata  show_media updated_utc  steward_reports  removed_by  \\\n",
       "0             NaN         NaN         NaN              NaN         NaN   \n",
       "1             NaN         NaN         NaN              NaN         NaN   \n",
       "2             NaN         NaN         NaN              NaN         NaN   \n",
       "3             NaN         NaN         NaN              NaN         NaN   \n",
       "4             NaN         NaN         NaN              NaN         NaN   \n",
       "\n",
       "  removed_by_category  call_to_action  discussion_type gallery_data is_gallery  \n",
       "0                 NaN             NaN              NaN          NaN        NaN  \n",
       "1                 NaN             NaN              NaN          NaN        NaN  \n",
       "2                 NaN             NaN              NaN          NaN        NaN  \n",
       "3                 NaN             NaN              NaN          NaN        NaN  \n",
       "4                 NaN             NaN              NaN          NaN        NaN  \n",
       "\n",
       "[5 rows x 117 columns]"
      ]
     },
     "execution_count": 10,
     "metadata": {},
     "output_type": "execute_result"
    }
   ],
   "source": [
    "df = pd.DataFrame(data_all)\n",
    "df.head()"
   ]
  },
  {
   "cell_type": "code",
   "execution_count": 11,
   "metadata": {},
   "outputs": [
    {
     "data": {
      "text/plain": [
       "0    1488418927\n",
       "1    1488419775\n",
       "2    1488419815\n",
       "3    1488453679\n",
       "4    1488459294\n",
       "Name: created_utc, dtype: int64"
      ]
     },
     "execution_count": 11,
     "metadata": {},
     "output_type": "execute_result"
    }
   ],
   "source": [
    "df['created_utc'].head()"
   ]
  },
  {
   "cell_type": "code",
   "execution_count": 12,
   "metadata": {},
   "outputs": [],
   "source": [
    "def epoch_time(x):\n",
    "    datetime_time = datetime.fromtimestamp(x)\n",
    "    timestampStr = datetime_time.strftime(\"%b-%Y\")\n",
    "    return timestampStr\n"
   ]
  },
  {
   "cell_type": "code",
   "execution_count": 13,
   "metadata": {},
   "outputs": [
    {
     "data": {
      "text/plain": [
       "array([1488418927, 1488419775, 1488419815, ..., 1612003675, 1612003709,\n",
       "       1612003812], dtype=int64)"
      ]
     },
     "execution_count": 13,
     "metadata": {},
     "output_type": "execute_result"
    }
   ],
   "source": [
    "df['created_utc'].unique()"
   ]
  },
  {
   "cell_type": "code",
   "execution_count": 14,
   "metadata": {},
   "outputs": [],
   "source": [
    "df['created_utc'] = df['created_utc'].apply(lambda x: epoch_time(int(float(x))))"
   ]
  },
  {
   "cell_type": "code",
   "execution_count": 15,
   "metadata": {},
   "outputs": [
    {
     "data": {
      "text/plain": [
       "4364    Jan-2021\n",
       "4365    Jan-2021\n",
       "4366    Jan-2021\n",
       "4367    Jan-2021\n",
       "4368    Jan-2021\n",
       "Name: created_utc, dtype: object"
      ]
     },
     "execution_count": 15,
     "metadata": {},
     "output_type": "execute_result"
    }
   ],
   "source": [
    "df_cutc = df['created_utc']\n",
    "df_cutc.tail()"
   ]
  },
  {
   "cell_type": "code",
   "execution_count": 16,
   "metadata": {},
   "outputs": [
    {
     "data": {
      "text/html": [
       "<div>\n",
       "<style scoped>\n",
       "    .dataframe tbody tr th:only-of-type {\n",
       "        vertical-align: middle;\n",
       "    }\n",
       "\n",
       "    .dataframe tbody tr th {\n",
       "        vertical-align: top;\n",
       "    }\n",
       "\n",
       "    .dataframe thead th {\n",
       "        text-align: right;\n",
       "    }\n",
       "</style>\n",
       "<table border=\"1\" class=\"dataframe\">\n",
       "  <thead>\n",
       "    <tr style=\"text-align: right;\">\n",
       "      <th></th>\n",
       "      <th>text</th>\n",
       "      <th>Compound</th>\n",
       "      <th>Positive</th>\n",
       "      <th>Negative</th>\n",
       "      <th>Neutral</th>\n",
       "    </tr>\n",
       "  </thead>\n",
       "  <tbody>\n",
       "    <tr>\n",
       "      <th>4344</th>\n",
       "      <td>[removed]</td>\n",
       "      <td>0.0000</td>\n",
       "      <td>0.000</td>\n",
       "      <td>0.000</td>\n",
       "      <td>1.000</td>\n",
       "    </tr>\n",
       "    <tr>\n",
       "      <th>4345</th>\n",
       "      <td>After all the news this week with RH I dont fe...</td>\n",
       "      <td>0.8920</td>\n",
       "      <td>0.173</td>\n",
       "      <td>0.033</td>\n",
       "      <td>0.795</td>\n",
       "    </tr>\n",
       "    <tr>\n",
       "      <th>4346</th>\n",
       "      <td>[removed]</td>\n",
       "      <td>0.0000</td>\n",
       "      <td>0.000</td>\n",
       "      <td>0.000</td>\n",
       "      <td>1.000</td>\n",
       "    </tr>\n",
       "    <tr>\n",
       "      <th>4347</th>\n",
       "      <td></td>\n",
       "      <td>0.0000</td>\n",
       "      <td>0.000</td>\n",
       "      <td>0.000</td>\n",
       "      <td>0.000</td>\n",
       "    </tr>\n",
       "    <tr>\n",
       "      <th>4348</th>\n",
       "      <td>This post was created for r/wallstreetbets, bu...</td>\n",
       "      <td>-0.9318</td>\n",
       "      <td>0.102</td>\n",
       "      <td>0.110</td>\n",
       "      <td>0.788</td>\n",
       "    </tr>\n",
       "  </tbody>\n",
       "</table>\n",
       "</div>"
      ],
      "text/plain": [
       "                                                   text  Compound  Positive  \\\n",
       "4344                                          [removed]    0.0000     0.000   \n",
       "4345  After all the news this week with RH I dont fe...    0.8920     0.173   \n",
       "4346                                          [removed]    0.0000     0.000   \n",
       "4347                                                       0.0000     0.000   \n",
       "4348  This post was created for r/wallstreetbets, bu...   -0.9318     0.102   \n",
       "\n",
       "      Negative  Neutral  \n",
       "4344     0.000    1.000  \n",
       "4345     0.033    0.795  \n",
       "4346     0.000    1.000  \n",
       "4347     0.000    0.000  \n",
       "4348     0.110    0.788  "
      ]
     },
     "execution_count": 16,
     "metadata": {},
     "output_type": "execute_result"
    }
   ],
   "source": [
    "sentiments = []\n",
    "\n",
    "for post in df['selftext']:\n",
    "    try:\n",
    "        text = post\n",
    "        results = sid.polarity_scores(text)\n",
    "        compound = results['compound']\n",
    "        pos = results['pos']\n",
    "        neu = results['neu']\n",
    "        neg = results['neg']\n",
    "\n",
    "        sentiments.append({\n",
    "            'text': text,\n",
    "            'Compound': compound,\n",
    "            'Positive': pos,\n",
    "            'Negative': neg,\n",
    "            'Neutral': neu,\n",
    "        })\n",
    "    except AttributeError:\n",
    "        pass\n",
    "    \n",
    "scores_df = pd.DataFrame(sentiments)\n",
    "scores_df.tail()"
   ]
  },
  {
   "cell_type": "code",
   "execution_count": null,
   "metadata": {},
   "outputs": [],
   "source": []
  }
 ],
 "metadata": {
  "kernelspec": {
   "display_name": "Python 3",
   "language": "python",
   "name": "python3"
  },
  "language_info": {
   "codemirror_mode": {
    "name": "ipython",
    "version": 3
   },
   "file_extension": ".py",
   "mimetype": "text/x-python",
   "name": "python",
   "nbconvert_exporter": "python",
   "pygments_lexer": "ipython3",
   "version": "3.7.9"
  }
 },
 "nbformat": 4,
 "nbformat_minor": 5
}
