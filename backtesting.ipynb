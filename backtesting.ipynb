{
 "cells": [
  {
   "cell_type": "markdown",
   "metadata": {},
   "source": [
    "# Backtesting"
   ]
  },
  {
   "cell_type": "code",
   "execution_count": null,
   "metadata": {},
   "outputs": [],
   "source": [
    "# Load Libraries\n",
    "import os\n",
    "import pandas as pd\n",
    "import numpy as np\n",
    "import talib as ta\n",
    "from pathlib import Path\n",
    "from dotenv import load_dotenv\n",
    "import alpaca_trade_api as tradeapi\n",
    "import datetime as dt\n",
    "import hvplot.pandas\n",
    "import ccxt\n",
    "%matplotlib inline"
   ]
  },
  {
   "cell_type": "code",
   "execution_count": null,
   "metadata": {},
   "outputs": [],
   "source": [
    "# Import tickers from screener \n",
    "\n",
    "tickers = [\"BBY\", \"UAL\", \"DISCK\", \"FANG\", \"NEE\"]"
   ]
  },
  {
   "cell_type": "code",
   "execution_count": null,
   "metadata": {},
   "outputs": [],
   "source": [
    "load_dotenv()\n",
    "# Import API Variable Keys\n",
    "## Stocks\n",
    "alpaca_api_key = os.getenv(\"ALPACA_API_KEY\")\n",
    "alpaca_secret_key = os.getenv(\"ALPACA_SECRET_KEY\")"
   ]
  },
  {
   "cell_type": "code",
   "execution_count": null,
   "metadata": {},
   "outputs": [],
   "source": [
    "# Create the Alpaca API object\n",
    "alpaca = tradeapi.REST(\n",
    "    alpaca_api_key,\n",
    "    alpaca_secret_key,\n",
    "    api_version=\"v2\")\n",
    "\n",
    "# Format current date as ISO format\n",
    "#today = pd.Timestamp(now, tz=\"America/New_York\").isoformat()\n",
    "\n",
    "# Set timeframe to one day ('1D') for the Alpaca API\n",
    "timeframe = \"15Min\"\n",
    "limit=50\n",
    "end_date = pd.Timestamp.now(tz=\"America/New_York\").isoformat()\n",
    "\n",
    "\n",
    "df_portfolio = alpaca.get_barset(\n",
    "    tickers,\n",
    "    timeframe,\n",
    "    limit,\n",
    "    end = end_date\n",
    ").df\n",
    "\n",
    "df_portfolio.index = df_portfolio.index.date\n",
    "df_portfolio = df_portfolio.dropna()\n",
    "df_portfolio.tail()"
   ]
  },
  {
   "cell_type": "code",
   "execution_count": null,
   "metadata": {},
   "outputs": [],
   "source": [
    "# Create Datafrom for solo ticker\n",
    "df_bby = pd.DataFrame()\n",
    "df_bby = df_portfolio['BBY']\n",
    "df_bby.tail()"
   ]
  },
  {
   "cell_type": "code",
   "execution_count": null,
   "metadata": {},
   "outputs": [],
   "source": [
    "# Create function that applies Tech Analysis\n",
    "def applyTA (input_df):\n",
    "    \"\"\"\n",
    "        Add columns of technical analysis in the dataframe\n",
    "        Parameter:\n",
    "            input_df - dataframe with date index and columns of OHLCV data\n",
    "        Returns:\n",
    "            df_ta - dataframe with date index and technical analysis signals\n",
    "    \"\"\"\n",
    "    \n",
    "    df = input_df.copy()\n",
    "    \n",
    "    # Construct EMA Singals\n",
    "    df['8D_EMA'] = ta.EMA(df['close'], timeperiod = 8)\n",
    "    df['21D_EMA'] = ta.EMA(df['close'], timeperiod = 21)\n",
    "    df['50D_EMA'] = ta.EMA(df['close'], timeperiod = 50)\n",
    "    df['8_21_x_long'] = np.where(df['8D_EMA'] > df['21D_EMA'], 1.0, 0.0)\n",
    "    df['8_21_x_short'] = np.where(df['8D_EMA'] < df['21D_EMA'], -1.0, 0.0)\n",
    "    df['8_21_x_signal'] = df['8_21_x_long'] + df['8_21_x_short'] \n",
    "    df['21_50_x_long'] = np.where(df['21D_EMA'] > df['50D_EMA'], 1.0, 0.0)\n",
    "    df['21_50_x_short'] = np.where(df['21D_EMA'] < df['50D_EMA'], -1.0, 0.0)\n",
    "    df['21_50_x_signal'] = df['21_50_x_long'] + df['21_50_x_short']\n",
    "    df['above_8D'] = np.where(df['close'] > df['8D_EMA'], 1.0, 0.0)\n",
    "    df['above_21D'] = np.where(df['close'] > df['21D_EMA'], 1.0, 0.0)\n",
    "    df['above_50D'] = np.where(df['close'] > df['50D_EMA'], 1.0, 0.0)\n",
    "    \n",
    "    # Bollinger Bands\n",
    "    df['bb_upper_band'], df['bb_middle_band'], df['bb_lower_band'] = ta.BBANDS(df['close'], timeperiod =20)\n",
    "    df['bb_long'] = np.where(df['close'] < df['bb_lower_band'], 1.0, 0.0)\n",
    "    df['bb_short'] = np.where(df['close'] > df['bb_upper_band'], -1.0, 0.0)\n",
    "    df['bb_signal'] = df['bb_long'] + df['bb_short']\n",
    "    \n",
    "    # Calculate Stochastic Oscillators trading signal\n",
    "    df['slowk'], df['slowd'] = ta.STOCH(df['high'], df['low'], df['close'], fastk_period=5, slowk_period=3, slowk_matype=0, slowd_period=3, slowd_matype=0)   \n",
    "    df['slowk_x_long'] = np.where(df['slowk'] > df['slowd'], 1.0, 0.0)\n",
    "    df['slowk_x_short'] = np.where(df['slowk'] < df['slowd'], -1.0, 0.0)\n",
    "    df['slowk_x_signal'] = df['slowk_x_long'] + df['slowk_x_short']\n",
    "    \n",
    "     # Calculate ADX\n",
    "    df['adx'] = ta.ADX(df['high'], df['low'], df['close'], timeperiod=14)\n",
    "    df['adx_strong'] = np.where(df['adx'] > 50, 1.0, 0.0)\n",
    "    df['adx_weak'] = np.where(df['adx'] < 20, 1.0, 0.0)\n",
    "\n",
    "    # Calculate OBV signal\n",
    "    df['obv'] = ta.OBV(df['close'], df['volume'])\n",
    "    df['obv_change']=df['obv'].pct_change()\n",
    "    df['obv_increase'] = np.where(df['obv_change'] > 0, 1.0, 0.0)\n",
    "\n",
    "    # Calculate Chaikin A/D Oscillator signal\n",
    "    df['ADOSC'] = ta.ADOSC(df['high'], df['low'], df['close'], df['volume'], fastperiod=3, slowperiod=10)    \n",
    "    df['adosc_positive'] = np.where(df['ADOSC'] > 0, 1.0, 0.0)\n",
    "\n",
    "    # Drop non-TA signals columns and NAs\n",
    "    df_ta = df[{'8_21_x_signal', '21_50_x_signal', 'above_8D', 'above_21D', 'above_50D', 'bb_signal', 'slowk_x_signal', 'adx_strong', 'adx_weak', 'obv_increase', 'adosc_positive'}]\n",
    "    df_ta = df_ta.dropna()\n",
    "    \n",
    "    return df_ta\n"
   ]
  },
  {
   "cell_type": "code",
   "execution_count": null,
   "metadata": {},
   "outputs": [],
   "source": [
    "# Apply Tech Analysis to chosen ticker\n",
    "applyTA(df_bby).tail()"
   ]
  },
  {
   "cell_type": "code",
   "execution_count": null,
   "metadata": {},
   "outputs": [],
   "source": [
    "# Create Dataframe\n",
    "df_TA_bby = applyTA(df_bby)\n",
    "df_TA_bby.tail()"
   ]
  },
  {
   "cell_type": "code",
   "execution_count": null,
   "metadata": {},
   "outputs": [],
   "source": [
    "# Create loop to find signals for every 15 minutes\n",
    "df_TA_bby.reset_index(inplace=True)\n",
    "\n",
    "for row in range(len(df_TA_bby)):\n",
    "    df_TA_bby.loc[row, 'total_score'] = df_TA_bby.loc[row, '8_21_x_signal'] + df_TA_bby.loc[row, '21_50_x_signal'] + df_TA_bby.loc[row,'above_8D'] + df_TA_bby.loc[row, 'above_21D'] + df_TA_bby.loc[row,'above_50D'] + df_TA_bby.loc[row,'bb_signal'] + df_TA_bby.loc[row,'slowk_x_signal'] + df_TA_bby.loc[row,'adx_strong'] + df_TA_bby.loc[row,'adx_weak'] + df_TA_bby.loc[row,'obv_increase'] + df_TA_bby.loc[row,'adosc_positive']\n",
    "df_TA_bby.tail()"
   ]
  },
  {
   "cell_type": "code",
   "execution_count": null,
   "metadata": {},
   "outputs": [],
   "source": [
    "# Create DataFrame for total scores\n",
    "df_TA_bby = df_TA_bby.drop(columns=['above_21D', 'above_50D', 'obv_increase', 'bb_signal', 'adx_weak', 'adosc_positive', 'adx_strong', 'above_8D', '8_21_x_signal', '21_50_x_signal', 'slowk_x_signal'])\n",
    "df_TA_bby.tail()"
   ]
  },
  {
   "cell_type": "code",
   "execution_count": null,
   "metadata": {},
   "outputs": [],
   "source": [
    "# Create DataFrame for Closing prices per interval\n",
    "df_bby = df_bby.drop(columns=['open', 'high', 'low', 'volume'])\n",
    "df_TA_bby.index = df_TA_bby['index']\n",
    "df_TA_bby = df_TA_bby.drop(columns=['index'])\n",
    "df_TA_bby.index.name = 'date'\n",
    "df_bby.index.name = 'date'\n",
    "df_TA_bby.tail()"
   ]
  },
  {
   "cell_type": "code",
   "execution_count": null,
   "metadata": {},
   "outputs": [],
   "source": [
    "# Concat closing price and total_score DataFrames\n",
    "df_concat = pd.concat([df_bby , df_TA_bby], axis='columns', join='outer')\n",
    "df_concat = df_concat.reset_index()\n",
    "df_concat.tail()"
   ]
  },
  {
   "cell_type": "code",
   "execution_count": null,
   "metadata": {},
   "outputs": [],
   "source": [
    "# Generate the trading signal 0 or 1,\n",
    "# where 0 is when the SMA50 is under the SMA100, and\n",
    "# where 1 is when the SMA50 is higher (or crosses over) the SMA100\n",
    "#signals_df[\"Signal\"][short_window:] = np.where(\n",
    "#    signals_df[\"SMA50\"][short_window:] < signals_df[\"SMA100\"][short_window:], 1.0, 0.0\n",
    "#)\n",
    "\n",
    "#df_concat['signal'] = 0.0\n",
    "for rows in range(len(df_concat[\"date\"])):\n",
    "    if df_concat.loc[rows, 'total_score'] >=3:\n",
    "        df_concat.loc[rows, \"signal\"] = 1\n",
    "    elif df_concat.loc[rows, 'total_score'] <= -3:\n",
    "        df_concat.loc[rows, \"signal\"] = -1\n",
    "    else:\n",
    "        df_concat.loc[rows, \"signal\"] = 0\n",
    "\n",
    "# Calculate the points in time at which a position should be taken, 1 or -1\n",
    "df_concat[\"Entry/Exit\"] = df_concat[\"signal\"].diff()\n",
    "\n",
    "# Print the DataFrame\n",
    "df_concat.dropna(inplace=True)\n",
    "df_concat"
   ]
  },
  {
   "cell_type": "code",
   "execution_count": null,
   "metadata": {},
   "outputs": [],
   "source": [
    "# Visualize exit position relative to close price\n",
    "entry = df_concat[df_concat[\"Entry/Exit\"] == -1.0][\"close\"].hvplot.scatter(\n",
    "    color=\"green\", legend=False, ylabel=\"Price in $\", width=1000, height=400\n",
    ")\n",
    "\n",
    "# Visualize entry position relative to close price\n",
    "exit = df_concat[df_concat[\"Entry/Exit\"] == 1.0][\"close\"].hvplot.scatter(\n",
    "    color=\"red\", legend=False, ylabel=\"Price in $\", width=1000, height=400\n",
    ")\n",
    "\n",
    "# Visualize close price for the investment\n",
    "security_close = df_concat[\"close\"].hvplot(\n",
    "    line_color=\"lightgray\", ylabel=\"Price in $\", width=1000, height=400\n",
    ")\n",
    "\n",
    "# Overlay plots\n",
    "entry_exit_plot = security_close * entry * exit\n",
    "entry_exit_plot"
   ]
  },
  {
   "cell_type": "code",
   "execution_count": null,
   "metadata": {},
   "outputs": [],
   "source": [
    "# Set initial capital\n",
    "initial_capital = float(100000)\n",
    "\n",
    "# Set the share size\n",
    "share_size = -500\n",
    "\n",
    "# Take a 500 share position where the dual moving average crossover is 1 (SMA50 is greater than SMA100)\n",
    "df_concat[\"Position\"] = share_size * df_concat[\"signal\"]\n",
    "\n",
    "# Find the points in time where a 500 share position is bought or sold\n",
    "df_concat[\"Entry/Exit Position\"] = df_concat[\"Position\"].diff()\n",
    "\n",
    "# Multiply share price by entry/exit positions and get the cumulatively sum\n",
    "df_concat[\"Portfolio Holdings\"] = (\n",
    "    df_concat[\"close\"] * df_concat[\"Entry/Exit Position\"].cumsum()\n",
    ")\n",
    "\n",
    "# Subtract the initial capital by the portfolio holdings to get the amount of liquid cash in the portfolio\n",
    "df_concat[\"Portfolio Cash\"] = (\n",
    "    initial_capital - (df_concat[\"close\"] * df_concat[\"Entry/Exit Position\"]).cumsum()\n",
    ")\n",
    "\n",
    "# Get the total portfolio value by adding the cash amount by the portfolio holdings (or investments)\n",
    "df_concat[\"Portfolio Total\"] = (\n",
    "    df_concat[\"Portfolio Cash\"] + df_concat[\"Portfolio Holdings\"]\n",
    ")\n",
    "\n",
    "# Calculate the portfolio daily returns\n",
    "df_concat[\"Portfolio Daily Returns\"] = df_concat[\"Portfolio Total\"].pct_change()\n",
    "\n",
    "# Calculate the cumulative returns\n",
    "df_concat[\"Portfolio Cumulative Returns\"] = (\n",
    "    1 + df_concat[\"Portfolio Daily Returns\"]\n",
    ").cumprod() - 1\n",
    "#Print DF\n",
    "df_concat"
   ]
  },
  {
   "cell_type": "code",
   "execution_count": null,
   "metadata": {},
   "outputs": [],
   "source": [
    "# Visualize exit position relative to total portfolio value\n",
    "entry = df_concat[df_concat[\"Entry/Exit\"] == -1.0][\"Portfolio Total\"].hvplot.scatter(\n",
    "    color=\"red\", legend=False, ylabel=\"Total Portfolio Value\", width=1000, height=400\n",
    ")\n",
    "\n",
    "# Visualize entry position relative to total portfolio value\n",
    "exit = df_concat[df_concat[\"Entry/Exit\"] == 1.0][\"Portfolio Total\"].hvplot.scatter(\n",
    "    color=\"green\", legend=False, ylabel=\"Total Portfolio Value\", width=1000, height=400\n",
    ")\n",
    "\n",
    "# Visualize total portoflio value for the investment\n",
    "total_portfolio_value = df_concat[[\"Portfolio Total\"]].hvplot(\n",
    "    line_color=\"lightgray\", ylabel=\"Total Portfolio Value\", width=1000, height=400\n",
    ")\n",
    "\n",
    "# Overlay plots\n",
    "portfolio_entry_exit_plot = total_portfolio_value * entry * exit\n",
    "portfolio_entry_exit_plot.opts(xaxis=None)"
   ]
  },
  {
   "cell_type": "code",
   "execution_count": null,
   "metadata": {},
   "outputs": [],
   "source": []
  },
  {
   "cell_type": "code",
   "execution_count": null,
   "metadata": {},
   "outputs": [],
   "source": []
  },
  {
   "cell_type": "code",
   "execution_count": null,
   "metadata": {},
   "outputs": [],
   "source": []
  },
  {
   "cell_type": "code",
   "execution_count": null,
   "metadata": {},
   "outputs": [],
   "source": []
  },
  {
   "cell_type": "code",
   "execution_count": null,
   "metadata": {},
   "outputs": [],
   "source": []
  },
  {
   "cell_type": "code",
   "execution_count": null,
   "metadata": {},
   "outputs": [],
   "source": []
  },
  {
   "cell_type": "code",
   "execution_count": null,
   "metadata": {},
   "outputs": [],
   "source": []
  },
  {
   "cell_type": "code",
   "execution_count": null,
   "metadata": {},
   "outputs": [],
   "source": []
  },
  {
   "cell_type": "code",
   "execution_count": null,
   "metadata": {},
   "outputs": [],
   "source": []
  },
  {
   "cell_type": "code",
   "execution_count": null,
   "metadata": {},
   "outputs": [],
   "source": []
  },
  {
   "cell_type": "code",
   "execution_count": null,
   "metadata": {},
   "outputs": [],
   "source": []
  },
  {
   "cell_type": "code",
   "execution_count": null,
   "metadata": {},
   "outputs": [],
   "source": []
  },
  {
   "cell_type": "code",
   "execution_count": null,
   "metadata": {},
   "outputs": [],
   "source": []
  },
  {
   "cell_type": "code",
   "execution_count": null,
   "metadata": {},
   "outputs": [],
   "source": []
  },
  {
   "cell_type": "code",
   "execution_count": null,
   "metadata": {},
   "outputs": [],
   "source": []
  },
  {
   "cell_type": "code",
   "execution_count": null,
   "metadata": {},
   "outputs": [],
   "source": []
  },
  {
   "cell_type": "code",
   "execution_count": null,
   "metadata": {},
   "outputs": [],
   "source": []
  },
  {
   "cell_type": "code",
   "execution_count": null,
   "metadata": {},
   "outputs": [],
   "source": []
  },
  {
   "cell_type": "code",
   "execution_count": null,
   "metadata": {},
   "outputs": [],
   "source": []
  },
  {
   "cell_type": "code",
   "execution_count": null,
   "metadata": {},
   "outputs": [],
   "source": []
  },
  {
   "cell_type": "code",
   "execution_count": null,
   "metadata": {},
   "outputs": [],
   "source": []
  },
  {
   "cell_type": "code",
   "execution_count": null,
   "metadata": {},
   "outputs": [],
   "source": []
  },
  {
   "cell_type": "code",
   "execution_count": null,
   "metadata": {},
   "outputs": [],
   "source": []
  },
  {
   "cell_type": "code",
   "execution_count": null,
   "metadata": {},
   "outputs": [],
   "source": []
  },
  {
   "cell_type": "code",
   "execution_count": null,
   "metadata": {},
   "outputs": [],
   "source": []
  },
  {
   "cell_type": "code",
   "execution_count": null,
   "metadata": {},
   "outputs": [],
   "source": []
  },
  {
   "cell_type": "code",
   "execution_count": null,
   "metadata": {},
   "outputs": [],
   "source": []
  }
 ],
 "metadata": {
  "kernelspec": {
   "display_name": "Python 3",
   "language": "python",
   "name": "python3"
  },
  "language_info": {
   "codemirror_mode": {
    "name": "ipython",
    "version": 3
   },
   "file_extension": ".py",
   "mimetype": "text/x-python",
   "name": "python",
   "nbconvert_exporter": "python",
   "pygments_lexer": "ipython3",
   "version": "3.7.7"
  }
 },
 "nbformat": 4,
 "nbformat_minor": 4
}
